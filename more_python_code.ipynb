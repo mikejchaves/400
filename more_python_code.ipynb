{
  "nbformat": 4,
  "nbformat_minor": 0,
  "metadata": {
    "colab": {
      "name": "more_python_code.ipynb",
      "version": "0.3.2",
      "provenance": [],
      "include_colab_link": true
    },
    "kernelspec": {
      "name": "python3",
      "display_name": "Python 3"
    }
  },
  "cells": [
    {
      "cell_type": "markdown",
      "metadata": {
        "id": "view-in-github",
        "colab_type": "text"
      },
      "source": [
        "<a href=\"https://colab.research.google.com/github/mikejchaves/400/blob/master/more_python_code.ipynb\" target=\"_parent\"><img src=\"https://colab.research.google.com/assets/colab-badge.svg\" alt=\"Open In Colab\"/></a>"
      ]
    },
    {
      "cell_type": "code",
      "metadata": {
        "id": "uUXQaOJ7LMt8",
        "colab_type": "code",
        "outputId": "b8548498-2992-45fb-fdc6-7373ed8421df",
        "colab": {
          "base_uri": "https://localhost:8080/",
          "height": 70
        }
      },
      "source": [
        "str = input(\"Enter string: \")\n",
        "total = 1\n",
        "\n",
        "for i in range(len(str)):\n",
        "    if(str[i] == ' ' or str == '\\n' or str == '\\t'):\n",
        "        total = total + 1\n",
        "\n",
        "sp = str.split()\n",
        "print(sp)\n",
        "print(total)"
      ],
      "execution_count": 0,
      "outputs": [
        {
          "output_type": "stream",
          "text": [
            "Enter string: hello world\n",
            "['hello', 'world']\n",
            "2\n"
          ],
          "name": "stdout"
        }
      ]
    }
  ]
}